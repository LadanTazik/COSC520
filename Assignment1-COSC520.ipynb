{
 "cells": [
  {
   "cell_type": "markdown",
   "id": "e989e6b0-d133-4bc7-a4fa-e2cf14b718cf",
   "metadata": {},
   "source": [
    "## Assignment 1- Ladan Tazik\n",
    "\n",
    "Comparing run time complexity for large enough data (at least one million string) of different implementations using \n",
    "\n",
    "- linear search,\n",
    "- binary search,\n",
    "- hashing, \n",
    "- Bloom filter,\n",
    "- Cuckoo filter"
   ]
  },
  {
   "cell_type": "code",
   "execution_count": 21,
   "id": "d7248999-dd88-463f-8bec-ebb48775f086",
   "metadata": {},
   "outputs": [],
   "source": [
    "import random\n",
    "import string\n",
    "import time\n",
    "import matplotlib.pyplot as plt\n",
    "import numpy as np\n",
    "import unittest\n",
    "import mmh3"
   ]
  },
  {
   "cell_type": "markdown",
   "id": "57815e45-465b-40a8-8d52-03f85fa0a26c",
   "metadata": {},
   "source": [
    "## Step 1: Generate a synthetic dataset and save in local directory"
   ]
  },
  {
   "cell_type": "code",
   "execution_count": 22,
   "id": "df27ec28-f98b-43f0-a72b-d6632436661c",
   "metadata": {},
   "outputs": [],
   "source": [
    "#  synthetic dataset of usernames of length 10\n",
    "def generate_usernames(n, length=10):\n",
    "    return [''.join(random.choices(string.ascii_lowercase, k=length)) for _ in range(n)]\n",
    "\n",
    "# Create dataset of 1M\n",
    "n = 1_000_000  \n",
    "usernames = generate_usernames(n)\n",
    "\n",
    "with open(\"synthetic_usernames_5.txt\", \"w\") as file:\n",
    "    for username in usernames:\n",
    "        file.write(username + \"\\n\")\n"
   ]
  },
  {
   "cell_type": "markdown",
   "id": "6f41a4f2-48df-49dc-b25e-30569bcc0a98",
   "metadata": {},
   "source": [
    "## Step 2: Implementation of the search methods"
   ]
  },
  {
   "cell_type": "code",
   "execution_count": 39,
   "id": "cc126cb5-de7f-4808-b276-76b9ac5a3874",
   "metadata": {},
   "outputs": [],
   "source": [
    "# Function for linear search\n",
    "def linear_search(username, data_list):\n",
    "    \"\"\" get a list and check if username exists in the list\"\"\"\n",
    "    return username in data_list\n",
    "\n",
    "# Function for binary search\n",
    "def binary_search(username, data_sortedList):\n",
    "    \"\"\"Binary search implementation using a sorted list.\"\"\"\n",
    "    left, right = 0, len(data_sortedList) - 1\n",
    "    while left <= right:\n",
    "        mid = (left + right) // 2\n",
    "        if data_sortedList[mid] == username:\n",
    "            return True\n",
    "        elif data_sortedList[mid] < username:\n",
    "            left = mid + 1\n",
    "        else:\n",
    "            right = mid - 1\n",
    "    return False\n",
    "\n",
    "#Hashing\n",
    "class HashTable:\n",
    "    \"\"\"\n",
    "    HashTable implementation using Python's built-in set.\n",
    "    \"\"\"\n",
    "    def __init__(self):\n",
    "        self.table = set()\n",
    "    \n",
    "    def insert(self, key: str):\n",
    "        \"\"\"Inserts a key into the hash table.\"\"\"\n",
    "        self.table.add(key)\n",
    "    \n",
    "    def lookup(self, key: str) -> bool:\n",
    "        \"\"\"Checks if a key exists in the hash table.\"\"\"\n",
    "        return key in self.table\n",
    "    \n",
    "    def delete(self, key: str):\n",
    "        \"\"\"Removes a key from the hash table if it exists.\"\"\"\n",
    "        self.table.discard(key)\n",
    "\n",
    "\n",
    "\n",
    "class BloomFilter:\n",
    "    \"\"\"\n",
    "    Implementation of a Bloom Filter using mmh3 for hash functions.\n",
    "    A Bloom Filter is a probabilistic data structure that provides fast membership testing\n",
    "    with a possibility of false positives but no false negatives.\n",
    "    \"\"\"\n",
    "    \n",
    "    def __init__(self, size: int, hash_count: int):\n",
    "        \"\"\"\n",
    "        Initializes the Bloom Filter.\n",
    "        \n",
    "        :param size: The number of bits in the bit array.\n",
    "        :param hash_count: The number of hash functions to use.\n",
    "        \"\"\"\n",
    "        self.size = size  # The number of bits in the bit array.\n",
    "        self.hash_count = hash_count  # The number of hash functions used.\n",
    "        self.bit_array = np.zeros(size, dtype=bool)  # Using NumPy for efficiency.\n",
    "    \n",
    "    def _hashes(self, key: str):\n",
    "        \"\"\"\n",
    "        Generates multiple hash values for a given key using mmh3.\n",
    "        \n",
    "        :param key: The string key to hash.\n",
    "        :return: A list of hash values.\n",
    "        \"\"\"\n",
    "        return [mmh3.hash(key, i) % self.size for i in range(self.hash_count)]\n",
    "    \n",
    "    def insert(self, key: str):\n",
    "        \"\"\"\n",
    "        Inserts a key into the Bloom Filter by setting bits at multiple hash positions.\n",
    "        \n",
    "        :param key: The string key to insert.\n",
    "        \"\"\"\n",
    "        for hash_value in self._hashes(key):\n",
    "            self.bit_array[hash_value] = True\n",
    "    \n",
    "    def lookup(self, key: str) -> bool:\n",
    "        \"\"\"\n",
    "        Checks if a key might exist in the Bloom Filter.\n",
    "        \n",
    "        :param key: The string key to check.\n",
    "        :return: True if the key might exist (possible false positive), False if the key does not exist.\n",
    "        \"\"\"\n",
    "        return all(self.bit_array[hash_value] for hash_value in self._hashes(key))\n",
    "    \n",
    "    #Delete not supported\n",
    "    \n",
    "    \n",
    "class CuckooFilter:\n",
    "    def __init__(self, capacity, bucket_size, fingerprint_size):\n",
    "        self.capacity = capacity  # Number of buckets\n",
    "        self.bucket_size = bucket_size  # Entries per bucket\n",
    "        self.fingerprint_size = fingerprint_size  # Fingerprint size in bits\n",
    "        self.buckets = [np.array([], dtype=np.uint32) for _ in range(capacity)]  # Optimized with NumPy\n",
    "\n",
    "    def _hash(self, value):\n",
    "        \"\"\"Computes primary hash index for storing value.\"\"\"\n",
    "        return mmh3.hash(value) % self.capacity\n",
    "\n",
    "    def _get_fingerprint(self, value):\n",
    "        \"\"\"Generates a small fingerprint for the value.\"\"\"\n",
    "        random.seed(mmh3.hash(value))  # Seed based on hash of value\n",
    "        return random.getrandbits(self.fingerprint_size) & ((1 << self.fingerprint_size) - 1)  # Ensures valid range\n",
    "\n",
    "    def insert(self, value):\n",
    "        \"\"\"Inserts a value into the Cuckoo Filter.\"\"\"\n",
    "        fingerprint = self._get_fingerprint(value)\n",
    "        index1 = self._hash(value)\n",
    "        index2 = (index1 ^ mmh3.hash(str(fingerprint), seed=42)) % self.capacity  # FIXED\n",
    "\n",
    "        bucket1 = self.buckets[index1]\n",
    "        bucket2 = self.buckets[index2]\n",
    "\n",
    "        # If fingerprint already exists, return True\n",
    "        if fingerprint in bucket1 or fingerprint in bucket2:\n",
    "            return True  \n",
    "\n",
    "        # Try inserting into the available bucket\n",
    "        if bucket1.size < self.bucket_size:\n",
    "            self.buckets[index1] = np.append(bucket1, fingerprint)\n",
    "            return True\n",
    "        if bucket2.size < self.bucket_size:\n",
    "            self.buckets[index2] = np.append(bucket2, fingerprint)\n",
    "            return True\n",
    "\n",
    "        # Eviction strategy with max relocation attempts\n",
    "        max_relocations = 50\n",
    "        for _ in range(max_relocations):\n",
    "            if random.random() < 0.5:\n",
    "                evicted_fingerprint = random.choice(bucket1.tolist())\n",
    "                self.buckets[index1] = np.delete(bucket1, np.where(bucket1 == evicted_fingerprint))\n",
    "                self.buckets[index1] = np.append(self.buckets[index1], fingerprint)\n",
    "            else:\n",
    "                evicted_fingerprint = random.choice(bucket2.tolist())\n",
    "                self.buckets[index2] = np.delete(bucket2, np.where(bucket2 == evicted_fingerprint))\n",
    "                self.buckets[index2] = np.append(self.buckets[index2], fingerprint)\n",
    "\n",
    "            fingerprint = evicted_fingerprint\n",
    "            index1 = (index1 ^ mmh3.hash(str(fingerprint), seed=42)) % self.capacity\n",
    "\n",
    "            if self.buckets[index1].size < self.bucket_size:\n",
    "                self.buckets[index1] = np.append(self.buckets[index1], fingerprint)\n",
    "                return True\n",
    "\n",
    "        return False  # Insertion failed after max attempts\n",
    "\n",
    "    def lookup(self, value):\n",
    "        \"\"\"Checks if a value exists in the Cuckoo Filter.\"\"\"\n",
    "        fingerprint = self._get_fingerprint(value)\n",
    "        index1 = self._hash(value)\n",
    "        index2 = (index1 ^ mmh3.hash(str(fingerprint), seed=42)) % self.capacity  # FIXED\n",
    "        return fingerprint in self.buckets[index1] or fingerprint in self.buckets[index2]\n",
    "\n",
    "    def delete(self, value):\n",
    "        \"\"\"Removes a value from the Cuckoo Filter.\"\"\"\n",
    "        fingerprint = self._get_fingerprint(value)\n",
    "        index1 = self._hash(value)\n",
    "        index2 = (index1 ^ mmh3.hash(str(fingerprint), seed=42)) % self.capacity  # FIXED\n",
    "        bucket1 = self.buckets[index1]\n",
    "        bucket2 = self.buckets[index2]\n",
    "\n",
    "        if fingerprint in bucket1:\n",
    "            self.buckets[index1] = np.delete(bucket1, np.where(bucket1 == fingerprint))\n",
    "            return True\n",
    "        if fingerprint in bucket2:\n",
    "            self.buckets[index2] = np.delete(bucket2, np.where(bucket2 == fingerprint))\n",
    "            return True\n",
    "\n",
    "        return False  # Not found\n",
    "\n"
   ]
  },
  {
   "cell_type": "markdown",
   "id": "19365edc-ab27-416c-a267-0a174ac23687",
   "metadata": {},
   "source": [
    "## Step 3: Initializing the data structures appropriate for each method"
   ]
  },
  {
   "cell_type": "code",
   "execution_count": null,
   "id": "48053832-edfe-41c5-b916-a709376eac6c",
   "metadata": {},
   "outputs": [],
   "source": [
    "# Store logins in different structures\n",
    "login_list = usernames.copy()  # List for linear search\n",
    "sorted_login_list = sorted(usernames)  # Sorted array for binary search\n",
    "login_hash_table = set(usernames)  # Hash table for fast lookup\n",
    "\n",
    "#bloom obj\n",
    "b_filter = BloomFilter(size=1000, hash_count=3)\n",
    "for username in usernames:\n",
    "    b_filter.insert(username)\n",
    "\n",
    "\n",
    "#cuckoo\n",
    "c_filter = CuckooFilter(capacity=100000, bucket_size=4, fingerprint_size=16)\n",
    "from concurrent.futures import ThreadPoolExecutor\n",
    "\n",
    "def insert_into_cuckoo(username):\n",
    "    c_filter.insert(username)\n",
    "\n",
    "with ThreadPoolExecutor(max_workers=8) as executor: # make it more effient when inserting using all threads\n",
    "    executor.map(insert_into_cuckoo, usernames)"
   ]
  },
  {
   "cell_type": "code",
   "execution_count": 58,
   "id": "cd234783-4430-4e5d-bd6b-75443a55e025",
   "metadata": {},
   "outputs": [
    {
     "data": {
      "text/plain": [
       "3.7365236282348635e-06"
      ]
     },
     "execution_count": 58,
     "metadata": {},
     "output_type": "execute_result"
    }
   ],
   "source": [
    "b_look_up_time = measure_runtime(b_filter,usernames) # test for all usernames\n",
    "b_look_up_time"
   ]
  },
  {
   "cell_type": "code",
   "execution_count": 62,
   "id": "fb0ba068-390d-4467-bbda-fac2ebaa1bdb",
   "metadata": {},
   "outputs": [
    {
     "data": {
      "text/plain": [
       "2.4165255308151244e-05"
      ]
     },
     "execution_count": 62,
     "metadata": {},
     "output_type": "execute_result"
    }
   ],
   "source": [
    "c_look_up_time = measure_runtime(c_filter,usernames)  # test for all usernames, avoided doing so for lin and binary search\n",
    "c_look_up_time"
   ]
  },
  {
   "cell_type": "code",
   "execution_count": 60,
   "id": "c7f96688-78a1-4210-8b46-e29bc63321a5",
   "metadata": {},
   "outputs": [],
   "source": [
    "def measure_lookup_runtime(search_function, data_structure, test_sample):\n",
    "    \"\"\"\n",
    "    Measures the lookup runtime for a given search function or a data structure with a `lookup` method.\n",
    "    \n",
    "    Parameters:\n",
    "    - search_function (function or object): A function to perform lookup or an object with a `lookup` method.\n",
    "    - data_structure (object): The data structure used for lookup.\n",
    "    - test_sample (list): Sample dataset to measure lookup runtime.\n",
    "    \n",
    "    Returns:\n",
    "    - float: The average lookup time.\n",
    "    \"\"\"\n",
    "    lookup_times = []\n",
    "\n",
    "    for username in test_sample:\n",
    "        start = time.time()\n",
    "\n",
    "        # Check if search_function is an object with a `lookup` method\n",
    "        if hasattr(search_function, 'lookup') and callable(getattr(search_function, 'lookup')):\n",
    "            search_function.lookup(username)  # Call the `lookup` method of the object\n",
    "        else:\n",
    "            search_function(username, data_structure)  # Call the function directly\n",
    "\n",
    "        lookup_times.append(time.time() - start)\n",
    "\n",
    "    return np.mean(lookup_times) if lookup_times else 0  # Avoid division by zero\n"
   ]
  },
  {
   "cell_type": "code",
   "execution_count": 57,
   "id": "736ee875-90de-4f44-8929-b6eeaa85cbce",
   "metadata": {},
   "outputs": [
    {
     "name": "stdout",
     "output_type": "stream",
     "text": [
      "Algorithm Performance (Time in Seconds) \n",
      "\n",
      "Linear Search: Lookup=0.01208181\n",
      "Binary Search: Lookup=0.00002461\n",
      "Hash Table: Lookup=0.00001800\n",
      "Bloom Filter: Lookup=0.00000700\n",
      "Cuckoo Filter: Lookup=0.00002197\n"
     ]
    }
   ],
   "source": [
    "test_sample = random.sample(usernames,1000)\n",
    "# Measure lookup performance across all methods\n",
    "results = {\n",
    "    \"Linear Search\": measure_lookup_runtime(linear_search, login_list, test_sample),\n",
    "    \"Binary Search\": measure_lookup_runtime(binary_search, sorted_login_list, test_sample),\n",
    "    \"Hash Table\": measure_lookup_runtime(hash_lookup, login_hash_table, test_sample),\n",
    "    \"Bloom Filter\":measure_lookup_runtime(b_filter,None,test_sample),\n",
    "    \"Cuckoo Filter\": measure_lookup_runtime(c_filter,None,test_sample)\n",
    "}\n",
    "print(\"Algorithm Performance (Time in Seconds) \\n\")\n",
    "for name, times in results.items():\n",
    "    print(f\"{name}: Lookup={times:.8f}\")"
   ]
  },
  {
   "cell_type": "markdown",
   "id": "b6acb7bc-a322-4df2-9f7a-9e328ded0385",
   "metadata": {},
   "source": [
    "### Plotting"
   ]
  },
  {
   "cell_type": "code",
   "execution_count": 61,
   "id": "c0951a39-69dc-40fe-ae6b-a6ae02807194",
   "metadata": {},
   "outputs": [
    {
     "data": {
      "image/png": "[encoded data removed]",
      "text/plain": [
       "<Figure size 1200x600 with 1 Axes>"
      ]
     },
     "metadata": {},
     "output_type": "display_data"
    }
   ],
   "source": [
    "# Extract labels and times\n",
    "labels = list(results.keys())\n",
    "lookup_times = [results[name] for name in labels]\n",
    "x = np.arange(len(labels))\n",
    "\n",
    "plt.figure(figsize=(12, 6))\n",
    "plt.bar(x, lookup_times, color='darkgreen', alpha=0.7)\n",
    "plt.xticks(x, labels, rotation=45)\n",
    "plt.ylabel(\"Time (s)\")\n",
    "plt.title(\"Lookup Time\")\n",
    "\n",
    "plt.show()"
   ]
  },
  {
   "cell_type": "markdown",
   "id": "e654caec-b8b8-4139-aac3-f4d55a2e06fa",
   "metadata": {},
   "source": [
    "## Step 4: Unit test for hashing, bloom and cucko filter"
   ]
  },
  {
   "cell_type": "code",
   "execution_count": 41,
   "id": "5ee2d235-1826-4ef2-9054-f3568784ad52",
   "metadata": {},
   "outputs": [
    {
     "name": "stderr",
     "output_type": "stream",
     "text": [
      "..\n",
      "----------------------------------------------------------------------\n",
      "Ran 2 tests in 0.290s\n",
      "\n",
      "OK\n"
     ]
    }
   ],
   "source": [
    "# Unit Testing\n",
    "\n",
    "class TestFilters(unittest.TestCase):\n",
    "    def setUp(self):\n",
    "        self.hash_table = HashTable()\n",
    "        self.bloom_filter = BloomFilter(1000, 3)\n",
    "        self.cuckoo_filter = CuckooFilter(capacity=100000, bucket_size=4, fingerprint_size=16)\n",
    "        self.sample_key = \"test_user\"\n",
    "    \n",
    "    def test_insert_and_lookup(self):\n",
    "        #hash table\n",
    "        self.hash_table.insert(self.sample_key)\n",
    "        self.assertTrue(self.hash_table.lookup(self.sample_key))\n",
    "        # Bloom filter\n",
    "        self.bloom_filter.insert(self.sample_key)\n",
    "        self.assertTrue(self.bloom_filter.lookup(self.sample_key))\n",
    "        #Cuckoo\n",
    "        self.cuckoo_filter.insert(self.sample_key)\n",
    "        self.assertTrue(self.cuckoo_filter.lookup(self.sample_key))\n",
    "    \n",
    "    def test_delete(self):\n",
    "        self.hash_table.insert(self.sample_key)\n",
    "        self.hash_table.delete(self.sample_key)\n",
    "        self.assertFalse(self.hash_table.lookup(self.sample_key))\n",
    "        \n",
    "        self.cuckoo_filter.insert(self.sample_key)\n",
    "        self.cuckoo_filter.delete(self.sample_key)\n",
    "        self.assertFalse(self.cuckoo_filter.lookup(self.sample_key))\n",
    "\n",
    "if __name__ == \"__main__\":\n",
    "    unittest.main(argv=['first-arg-is-ignored'], exit=False)\n"
   ]
  }
 ],
 "metadata": {
  "kernelspec": {
   "display_name": "Python 3 (ipykernel)",
   "language": "python",
   "name": "python3"
  },
  "language_info": {
   "codemirror_mode": {
    "name": "ipython",
    "version": 3
   },
   "file_extension": ".py",
   "mimetype": "text/x-python",
   "name": "python",
   "nbconvert_exporter": "python",
   "pygments_lexer": "ipython3",
   "version": "3.9.13"
  }
 },
 "nbformat": 4,
 "nbformat_minor": 5
}
